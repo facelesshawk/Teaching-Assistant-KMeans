{
 "cells": [
  {
   "cell_type": "code",
   "execution_count": 5,
   "metadata": {},
   "outputs": [],
   "source": [
    "import numpy as np\n",
    "import pandas as pd\n",
    "import matplotlib.pyplot as plt\n",
    "%matplotlib inline\n",
    "\n",
    "from sklearn.cross_validation import train_test_split\n",
    "from sklearn.metrics import accuracy_score\n",
    "from sklearn.cluster import KMeans"
   ]
  },
  {
   "cell_type": "code",
   "execution_count": 2,
   "metadata": {
    "collapsed": true
   },
   "outputs": [],
   "source": [
    "train=pd.read_csv(\"C:\\\\Users\\\\vipul\\\\Desktop\\\\teaching assistant data set\\\\TeachingAssistantDataset.csv\",header=0)"
   ]
  },
  {
   "cell_type": "code",
   "execution_count": 3,
   "metadata": {},
   "outputs": [
    {
     "data": {
      "text/plain": [
       "<bound method NDFrame.describe of      native_English_speaker  Course_instructor  Course  \\\n",
       "0                         1                 23       3   \n",
       "1                         2                 15       3   \n",
       "2                         1                 23       3   \n",
       "3                         1                  5       2   \n",
       "4                         2                  7      11   \n",
       "5                         2                 23       3   \n",
       "6                         2                  9       5   \n",
       "7                         2                 10       3   \n",
       "8                         1                 22       3   \n",
       "9                         2                 15       3   \n",
       "10                        2                 10      22   \n",
       "11                        2                 13       1   \n",
       "12                        2                 18      21   \n",
       "13                        2                  6      17   \n",
       "14                        2                  6      17   \n",
       "15                        2                  6      17   \n",
       "16                        2                  7      11   \n",
       "17                        2                 22       3   \n",
       "18                        2                 13       3   \n",
       "19                        2                  7      25   \n",
       "20                        2                 25       7   \n",
       "21                        2                 25       7   \n",
       "22                        2                  2       9   \n",
       "23                        2                  1      15   \n",
       "24                        2                 15      13   \n",
       "25                        2                  7      11   \n",
       "26                        2                  8       3   \n",
       "27                        2                 14      15   \n",
       "28                        2                 21       2   \n",
       "29                        2                 22       3   \n",
       "..                      ...                ...     ...   \n",
       "121                       2                 13      14   \n",
       "122                       2                  9       6   \n",
       "123                       1                 10       3   \n",
       "124                       2                 14      15   \n",
       "125                       1                 13       1   \n",
       "126                       1                  8       3   \n",
       "127                       2                 20       2   \n",
       "128                       2                 22       1   \n",
       "129                       2                 18      12   \n",
       "130                       2                 20      15   \n",
       "131                       1                 17      18   \n",
       "132                       2                 14      23   \n",
       "133                       2                 24      26   \n",
       "134                       2                  9      24   \n",
       "135                       2                 12       8   \n",
       "136                       2                  9       6   \n",
       "137                       2                 22       1   \n",
       "138                       2                  7      11   \n",
       "139                       2                 10       3   \n",
       "140                       2                 23       3   \n",
       "141                       2                 17      18   \n",
       "142                       2                 16      20   \n",
       "143                       2                  3       2   \n",
       "144                       2                 19       4   \n",
       "145                       2                 23       3   \n",
       "146                       2                  3       2   \n",
       "147                       2                 10       3   \n",
       "148                       1                 18       7   \n",
       "149                       2                 22       1   \n",
       "150                       2                  2      10   \n",
       "\n",
       "     Summer_or_regular_semester  Class_size  Class_attribute  \n",
       "0                             1          19                3  \n",
       "1                             1          17                3  \n",
       "2                             2          49                3  \n",
       "3                             2          33                3  \n",
       "4                             2          55                3  \n",
       "5                             1          20                3  \n",
       "6                             2          19                3  \n",
       "7                             2          27                3  \n",
       "8                             1          58                3  \n",
       "9                             1          20                3  \n",
       "10                            2           9                3  \n",
       "11                            2          30                3  \n",
       "12                            2          29                3  \n",
       "13                            2          39                3  \n",
       "14                            2          42                2  \n",
       "15                            2          43                2  \n",
       "16                            2          10                2  \n",
       "17                            2          46                2  \n",
       "18                            1          10                2  \n",
       "19                            2          42                2  \n",
       "20                            2          27                2  \n",
       "21                            2          23                2  \n",
       "22                            2          31                2  \n",
       "23                            1          22                2  \n",
       "24                            2          37                2  \n",
       "25                            2          13                2  \n",
       "26                            2          24                2  \n",
       "27                            2          38                2  \n",
       "28                            2          42                1  \n",
       "29                            2          28                1  \n",
       "..                          ...         ...              ...  \n",
       "121                           2          17                3  \n",
       "122                           2           7                3  \n",
       "123                           2          21                3  \n",
       "124                           2          36                3  \n",
       "125                           2          54                3  \n",
       "126                           2          29                3  \n",
       "127                           2          45                3  \n",
       "128                           2          11                2  \n",
       "129                           2          16                2  \n",
       "130                           2          18                2  \n",
       "131                           2          44                2  \n",
       "132                           2          17                2  \n",
       "133                           2          21                2  \n",
       "134                           2          20                2  \n",
       "135                           2          24                2  \n",
       "136                           2           5                2  \n",
       "137                           2          42                2  \n",
       "138                           2          30                1  \n",
       "139                           2          19                1  \n",
       "140                           2          11                1  \n",
       "141                           2          29                1  \n",
       "142                           2          15                1  \n",
       "143                           2          37                1  \n",
       "144                           2          10                1  \n",
       "145                           2          24                1  \n",
       "146                           2          26                1  \n",
       "147                           2          12                1  \n",
       "148                           2          48                1  \n",
       "149                           2          51                1  \n",
       "150                           2          27                1  \n",
       "\n",
       "[151 rows x 6 columns]>"
      ]
     },
     "execution_count": 3,
     "metadata": {},
     "output_type": "execute_result"
    }
   ],
   "source": [
    "train.describe\n"
   ]
  },
  {
   "cell_type": "code",
   "execution_count": 4,
   "metadata": {},
   "outputs": [
    {
     "name": "stdout",
     "output_type": "stream",
     "text": [
      "<class 'pandas.core.frame.DataFrame'>\n",
      "RangeIndex: 151 entries, 0 to 150\n",
      "Data columns (total 6 columns):\n",
      "native_English_speaker        151 non-null int64\n",
      "Course_instructor             151 non-null int64\n",
      "Course                        151 non-null int64\n",
      "Summer_or_regular_semester    151 non-null int64\n",
      "Class_size                    151 non-null int64\n",
      "Class_attribute               151 non-null int64\n",
      "dtypes: int64(6)\n",
      "memory usage: 7.2 KB\n"
     ]
    }
   ],
   "source": [
    "train.info()"
   ]
  },
  {
   "cell_type": "code",
   "execution_count": 12,
   "metadata": {},
   "outputs": [],
   "source": [
    "X=train[['native_English_speaker','Course_instructor','Course','Summer_or_regular_semester','Class_size']]\n",
    "y=train['Class_attribute']"
   ]
  },
  {
   "cell_type": "code",
   "execution_count": 13,
   "metadata": {
    "collapsed": true
   },
   "outputs": [],
   "source": [
    "xtrain,xtest,ytrain,ytest=train_test_split(X,y,test_size=0.25)"
   ]
  },
  {
   "cell_type": "code",
   "execution_count": 18,
   "metadata": {
    "collapsed": true
   },
   "outputs": [],
   "source": [
    "estimators = [('k_means_3', KMeans(n_clusters=3))]"
   ]
  },
  {
   "cell_type": "code",
   "execution_count": 36,
   "metadata": {},
   "outputs": [],
   "source": [
    "clf=KMeans(n_clusters=3,random_state=0).fit(xtrain)"
   ]
  },
  {
   "cell_type": "code",
   "execution_count": 37,
   "metadata": {},
   "outputs": [
    {
     "data": {
      "text/plain": [
       "array([1, 1, 1, 1, 2, 0, 1, 1, 2, 0, 1, 1, 0, 1, 1, 0, 1, 1, 1, 2, 2, 2, 0,\n",
       "       1, 2, 1, 1, 1, 0, 1, 0, 2, 0, 1, 1, 1, 1, 0, 1, 2, 1, 1, 0, 2, 0, 1,\n",
       "       0, 1, 1, 0, 1, 0, 0, 0, 2, 1, 0, 1, 1, 0, 0, 0, 0, 0, 0, 1, 0, 1, 1,\n",
       "       1, 0, 1, 0, 2, 0, 1, 0, 0, 1, 2, 1, 1, 1, 0, 1, 1, 1, 0, 2, 1, 1, 1,\n",
       "       2, 0, 1, 0, 1, 0, 2, 2, 0, 1, 0, 1, 0, 1, 0, 1, 1, 2, 2, 0, 1])"
      ]
     },
     "execution_count": 37,
     "metadata": {},
     "output_type": "execute_result"
    }
   ],
   "source": [
    "clf.labels_"
   ]
  },
  {
   "cell_type": "code",
   "execution_count": 42,
   "metadata": {},
   "outputs": [],
   "source": [
    "pred=clf.predict(xtest)"
   ]
  },
  {
   "cell_type": "code",
   "execution_count": 43,
   "metadata": {},
   "outputs": [
    {
     "data": {
      "text/plain": [
       "array([1, 0, 0, 1, 0, 1, 0, 2, 1, 0, 1, 1, 0, 2, 2, 1, 1, 0, 0, 0, 1, 1, 0,\n",
       "       0, 0, 0, 1, 1, 0, 1, 1, 1, 2, 2, 2, 1, 0, 1])"
      ]
     },
     "execution_count": 43,
     "metadata": {},
     "output_type": "execute_result"
    }
   ],
   "source": [
    "pred"
   ]
  },
  {
   "cell_type": "code",
   "execution_count": 44,
   "metadata": {},
   "outputs": [],
   "source": [
    "acc=accuracy_score(pred,ytest)"
   ]
  },
  {
   "cell_type": "code",
   "execution_count": 45,
   "metadata": {},
   "outputs": [
    {
     "data": {
      "text/plain": [
       "0.10526315789473684"
      ]
     },
     "execution_count": 45,
     "metadata": {},
     "output_type": "execute_result"
    }
   ],
   "source": [
    "acc"
   ]
  },
  {
   "cell_type": "code",
   "execution_count": null,
   "metadata": {
    "collapsed": true
   },
   "outputs": [],
   "source": []
  }
 ],
 "metadata": {
  "kernelspec": {
   "display_name": "Python 3",
   "language": "python",
   "name": "python3"
  },
  "language_info": {
   "codemirror_mode": {
    "name": "ipython",
    "version": 3
   },
   "file_extension": ".py",
   "mimetype": "text/x-python",
   "name": "python",
   "nbconvert_exporter": "python",
   "pygments_lexer": "ipython3",
   "version": "3.6.1"
  }
 },
 "nbformat": 4,
 "nbformat_minor": 2
}
